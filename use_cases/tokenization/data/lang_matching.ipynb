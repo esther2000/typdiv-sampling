{
 "cells": [
  {
   "cell_type": "code",
   "execution_count": 2,
   "id": "ef579b10-c868-44dd-a691-e93ef4094b15",
   "metadata": {},
   "outputs": [],
   "source": [
    "import json\n",
    "import os\n",
    "\n",
    "import pandas as pd"
   ]
  },
  {
   "cell_type": "code",
   "execution_count": 31,
   "id": "27ebde5c-db6c-4bd8-8007-daed1884cd05",
   "metadata": {},
   "outputs": [],
   "source": [
    "SCRIPT = \"Latn\""
   ]
  },
  {
   "cell_type": "code",
   "execution_count": 32,
   "id": "1cc9fd89-5a05-4028-9755-a29271fd7752",
   "metadata": {},
   "outputs": [
    {
     "name": "stdout",
     "output_type": "stream",
     "text": [
      "662\n"
     ]
    }
   ],
   "source": [
    "# Get bible ISO codes: these are actually annotated in the files\n",
    "with open(\"bib_per_lang.json\", \"r\") as f:\n",
    "    data = json.load(f)\n",
    "\n",
    "isos = []\n",
    "for _, b in data.items():\n",
    "    with open(os.path.join(\"<BIBLE PATH>\", b), \"r\") as infile:\n",
    "        lines = infile.readlines()\n",
    "        if lines[2].rstrip()[-4:] == SCRIPT:\n",
    "            isos.append(lines[1].rstrip()[-3:])\n",
    "\n",
    "print(len(isos))"
   ]
  },
  {
   "cell_type": "code",
   "execution_count": 4,
   "id": "5f89be7a-2de9-49d5-bf9a-c542c1e5166b",
   "metadata": {},
   "outputs": [],
   "source": [
    "# Establish iso to glottocode mapping\n",
    "gltc_df = pd.read_csv(\"../../../data/languoid.csv\")\n",
    "gltc_mapping = {row[\"iso639P3code\"]: row[\"id\"] for _, row in gltc_df.iterrows()}"
   ]
  },
  {
   "cell_type": "code",
   "execution_count": 34,
   "id": "c1115bb1-e1e9-4cdf-b238-bd59159d45f9",
   "metadata": {},
   "outputs": [
    {
     "name": "stdout",
     "output_type": "stream",
     "text": [
      "Through this conversion, we lose 0 languages.\n"
     ]
    }
   ],
   "source": [
    "# Convert isos to glottocodes\n",
    "gltc = []\n",
    "no_gltc_isos = []\n",
    "for iso in isos:\n",
    "    try:\n",
    "        gltc.append(gltc_mapping[iso])\n",
    "    except KeyError:\n",
    "        no_gltc_isos.append(iso)\n",
    "\n",
    "print(f\"Through this conversion, we lose {len(no_gltc_isos)} languages.\")"
   ]
  },
  {
   "cell_type": "code",
   "execution_count": 35,
   "id": "8447323e-b3f8-4fe3-b835-dc7a404eeb09",
   "metadata": {},
   "outputs": [
    {
     "data": {
      "text/plain": [
       "660"
      ]
     },
     "execution_count": 35,
     "metadata": {},
     "output_type": "execute_result"
    }
   ],
   "source": [
    "# Match with Grambank data\n",
    "gb_df = pd.read_csv(\"../../../data/gb_lang_feat_vals.csv\")\n",
    "gb_langs = [row[\"Lang_ID\"] for _, row in gb_df.iterrows()]\n",
    "\n",
    "len(set(gltc).intersection(set(gb_langs)))"
   ]
  },
  {
   "cell_type": "code",
   "execution_count": 36,
   "id": "18cb576a-a522-4dbb-a932-7f77c44fb21f",
   "metadata": {},
   "outputs": [],
   "source": [
    "codes = set(gltc).intersection(set(gb_langs))\n",
    "iso_mapping = {row[\"id\"]: row[\"iso639P3code\"] for _, row in gltc_df.iterrows()}\n",
    "isos = [iso_mapping[x] for x in codes]"
   ]
  },
  {
   "cell_type": "code",
   "execution_count": 37,
   "id": "dc145d43-f11a-4736-bee0-640a043e7574",
   "metadata": {},
   "outputs": [],
   "source": [
    "with open(f\"langcodes_{SCRIPT}.txt\", \"w\") as of:\n",
    "    for iso in isos:\n",
    "        of.write(iso + \"\\n\")"
   ]
  }
 ],
 "metadata": {
  "kernelspec": {
   "display_name": "Python 3 (ipykernel)",
   "language": "python",
   "name": "python3"
  },
  "language_info": {
   "codemirror_mode": {
    "name": "ipython",
    "version": 3
   },
   "file_extension": ".py",
   "mimetype": "text/x-python",
   "name": "python",
   "nbconvert_exporter": "python",
   "pygments_lexer": "ipython3",
   "version": "3.12.2"
  }
 },
 "nbformat": 4,
 "nbformat_minor": 5
}
