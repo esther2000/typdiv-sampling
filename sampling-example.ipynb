{
 "cells": [
  {
   "cell_type": "code",
   "execution_count": 1,
   "metadata": {},
   "outputs": [
    {
     "data": {
      "text/plain": [
       "['nucl1347', 'tami1289', 'thai1261']"
      ]
     },
     "execution_count": 1,
     "metadata": {},
     "output_type": "execute_result"
    }
   ],
   "source": [
    "from pathlib import Path\n",
    "from typdiv_sampling.sampling import Sampler\n",
    "\n",
    "# A list of glottocodes to sample from.\n",
    "frame = [\"tami1289\", \"telu1262\", \"thai1261\", \"nucl1301\", \"viet1252\", \"nucl1347\"]\n",
    "k = 3  # The number of languages to sample.\n",
    "seed = 123  # A random seed for the non-deterministic methods.\n",
    "\n",
    "# Initialize with default setup.\n",
    "sampler = Sampler(\n",
    "    dist_path=Path(\"data/bin-norm-distances.csv\"),  # Language distances to use.\n",
    "    gb_path=Path(\"grambank/cldf/languages.csv\"),  # Grambank csv file.\n",
    "    wals_path=Path(\"data/wals_dedup.csv\"),  # WALS csv file\n",
    "    counts_path=Path(\"data/convenience_counts.json\"),  # Language count file.\n",
    ")\n",
    "sampler.sample_mdp(frame, k)"
   ]
  },
  {
   "cell_type": "code",
   "execution_count": 2,
   "metadata": {},
   "outputs": [
    {
     "data": {
      "text/plain": [
       "['nucl1347', 'tami1289', 'thai1261']"
      ]
     },
     "execution_count": 2,
     "metadata": {},
     "output_type": "execute_result"
    }
   ],
   "source": [
    "sampler.sample_mmdp(frame, k)"
   ]
  },
  {
   "cell_type": "code",
   "execution_count": 7,
   "metadata": {},
   "outputs": [
    {
     "data": {
      "text/plain": [
       "['nucl1347', 'tami1289', 'viet1252']"
      ]
     },
     "execution_count": 7,
     "metadata": {},
     "output_type": "execute_result"
    }
   ],
   "source": [
    "sampler.sample_random(frame, k)"
   ]
  },
  {
   "cell_type": "code",
   "execution_count": 3,
   "metadata": {},
   "outputs": [
    {
     "data": {
      "text/plain": [
       "['nucl1301', 'tami1289', 'viet1252']"
      ]
     },
     "execution_count": 3,
     "metadata": {},
     "output_type": "execute_result"
    }
   ],
   "source": [
    "sampler.sample_convenience(frame, k)"
   ]
  },
  {
   "cell_type": "code",
   "execution_count": 5,
   "metadata": {},
   "outputs": [
    {
     "data": {
      "text/plain": [
       "['tami1289', 'nucl1347', 'thai1261']"
      ]
     },
     "execution_count": 5,
     "metadata": {},
     "output_type": "execute_result"
    }
   ],
   "source": [
    "sampler.sample_random_family(frame, k)"
   ]
  },
  {
   "cell_type": "code",
   "execution_count": 6,
   "metadata": {},
   "outputs": [
    {
     "data": {
      "text/plain": [
       "['thai1261', 'tami1289', 'viet1252']"
      ]
     },
     "execution_count": 6,
     "metadata": {},
     "output_type": "execute_result"
    }
   ],
   "source": [
    "sampler.sample_random_genus(frame, k)\n"
   ]
  },
  {
   "cell_type": "code",
   "execution_count": 15,
   "metadata": {},
   "outputs": [
    {
     "data": {
      "text/plain": [
       "[7, 2, 6, 1, 3, 4, 5]"
      ]
     },
     "execution_count": 15,
     "metadata": {},
     "output_type": "execute_result"
    }
   ],
   "source": [
    "import random\n",
    "\n",
    "a = [1,2,3,4,5,6,7]\n",
    "random.sample(a, k=len(a))"
   ]
  },
  {
   "cell_type": "code",
   "execution_count": 7,
   "metadata": {},
   "outputs": [
    {
     "data": {
      "text/plain": [
       "195"
      ]
     },
     "execution_count": 7,
     "metadata": {},
     "output_type": "execute_result"
    }
   ],
   "source": [
    "import numpy as np\n",
    "import pandas as pd\n",
    "from pathlib import Path\n",
    "\n",
    "gb = pd.read_csv('data/gb_binarized.csv', index_col=\"Lang_ID\")\n",
    "N = sorted(gb.index.unique())\n",
    "\n",
    "len(sampler.sample_convenience(N, 195))"
   ]
  },
  {
   "cell_type": "code",
   "execution_count": 12,
   "metadata": {},
   "outputs": [],
   "source": [
    "gb = gb.drop([\"Unnamed: 0\", \"Unnamed: 0.1\"], axis=1)\n",
    "\n",
    "# no_cov introduces a lot of unneeded entropy and both 'missing' values\n",
    "# have the same meaning (roughly) for our purposes\n",
    "gb.replace(to_replace=\"no_cov\", value=\"?\", inplace=True)\n",
    "gb_by_lang = {i: np.array(row) for i, row in gb.iterrows()}"
   ]
  },
  {
   "cell_type": "code",
   "execution_count": 13,
   "metadata": {},
   "outputs": [
    {
     "data": {
      "text/plain": [
       "209"
      ]
     },
     "execution_count": 13,
     "metadata": {},
     "output_type": "execute_result"
    }
   ],
   "source": [
    "len(gb_by_lang[list(gb_by_lang.keys())[0]])"
   ]
  },
  {
   "cell_type": "code",
   "execution_count": 14,
   "metadata": {},
   "outputs": [
    {
     "ename": "AttributeError",
     "evalue": "'dict' object has no attribute 'shape'",
     "output_type": "error",
     "traceback": [
      "\u001b[0;31m---------------------------------------------------------------------------\u001b[0m",
      "\u001b[0;31mAttributeError\u001b[0m                            Traceback (most recent call last)",
      "Cell \u001b[0;32mIn[14], line 1\u001b[0m\n\u001b[0;32m----> 1\u001b[0m \u001b[43mgb_by_lang\u001b[49m\u001b[38;5;241;43m.\u001b[39;49m\u001b[43mshape\u001b[49m[\u001b[38;5;241m0\u001b[39m]\n",
      "\u001b[0;31mAttributeError\u001b[0m: 'dict' object has no attribute 'shape'"
     ]
    }
   ],
   "source": [
    "gb_by_lang.shape[0]"
   ]
  }
 ],
 "metadata": {
  "kernelspec": {
   "display_name": "typ",
   "language": "python",
   "name": "python3"
  },
  "language_info": {
   "codemirror_mode": {
    "name": "ipython",
    "version": 3
   },
   "file_extension": ".py",
   "mimetype": "text/x-python",
   "name": "python",
   "nbconvert_exporter": "python",
   "pygments_lexer": "ipython3",
   "version": "3.10.13"
  }
 },
 "nbformat": 4,
 "nbformat_minor": 2
}
