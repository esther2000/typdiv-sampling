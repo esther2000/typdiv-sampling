{
 "cells": [
  {
   "cell_type": "code",
   "execution_count": 3,
   "metadata": {},
   "outputs": [],
   "source": [
    "import pandas as pd\n",
    "from fiject import CacheMode\n",
    "from fiject.visuals.tables import Table"
   ]
  },
  {
   "cell_type": "code",
   "execution_count": 6,
   "metadata": {},
   "outputs": [],
   "source": [
    "# case study for sample size (k) = 20\n",
    "df = pd.read_csv(\"../results/intrinsic-eval.csv\")\n",
    "df = df[df['k']==20]"
   ]
  },
  {
   "cell_type": "code",
   "execution_count": 8,
   "metadata": {},
   "outputs": [
    {
     "name": "stdout",
     "output_type": "stream",
     "text": [
      "Writing .tex Sampling Method ...\n",
      "\\begin{tabular}{l||cccc}\n",
      "\t              & \\textbf{MPD} $\\uparrow$ & \\textbf{FVO} $\\downarrow$ & \\textbf{FVI} $\\uparrow$ & $\\boldsymbol{\\mathcal{H}}$ $\\uparrow$\\\\\\hhline{*{5}{=}}\n",
      "\tConvenience*  & $0.72 \\pm0.00$          & $0.69 \\pm0.00$            & $0.94 \\pm0.00$          & $0.65 \\pm0.00$                       \\\\\n",
      "\tRandom*       & $0.75 \\pm0.02$          & $0.66 \\pm0.02$            & $0.94 \\pm0.02$          & $0.68 \\pm0.02$                       \\\\\n",
      "\tRandomFamily* & $0.75 \\pm0.01$          & $0.65 \\pm0.01$            & $0.95 \\pm0.01$          & $0.69 \\pm0.02$                       \\\\\n",
      "\tRandomGenus*  & $0.76 \\pm0.01$          & $0.64 \\pm0.01$            & $0.95 \\pm0.01$          & $0.70 \\pm0.02$                       \\\\\n",
      "\tMaxSum        & $0.86$                  & $0.55$                    & $0.99$                  & $0.86$                               \\\\\n",
      "\tMaxMin        & $0.84$                  & $0.57$                    & $0.98$                  & $0.82$                               \n",
      "\\end{tabular}\n"
     ]
    },
    {
     "name": "stderr",
     "output_type": "stream",
     "text": [
      "<>:25: SyntaxWarning: invalid escape sequence '\\m'\n",
      "<>:26: SyntaxWarning: invalid escape sequence '\\m'\n",
      "<>:36: SyntaxWarning: invalid escape sequence '\\p'\n",
      "<>:25: SyntaxWarning: invalid escape sequence '\\m'\n",
      "<>:26: SyntaxWarning: invalid escape sequence '\\m'\n",
      "<>:36: SyntaxWarning: invalid escape sequence '\\p'\n",
      "/var/folders/2z/btydfrss06zb3cvd_xwm7mq80000gq/T/ipykernel_10174/4027781453.py:25: SyntaxWarning: invalid escape sequence '\\m'\n",
      "  \"entropy_with_missing\": \"$\\\\boldsymbol{\\mathcal{H}}$ $\\\\uparrow$\",\n",
      "/var/folders/2z/btydfrss06zb3cvd_xwm7mq80000gq/T/ipykernel_10174/4027781453.py:26: SyntaxWarning: invalid escape sequence '\\m'\n",
      "  \"entropy_without_missing\": \"$\\\\boldsymbol{\\mathcal{H}}$ $\\\\uparrow$\",\n",
      "/var/folders/2z/btydfrss06zb3cvd_xwm7mq80000gq/T/ipykernel_10174/4027781453.py:36: SyntaxWarning: invalid escape sequence '\\p'\n",
      "  std_str = \"\" if method in [\"maxsum\", \"maxmin\"] else f\" \\pm{std:.2f}\"\n"
     ]
    }
   ],
   "source": [
    "table = Table(\"Sampling Method\", caching=CacheMode.NONE)\n",
    "\n",
    "methods = [\"convenience\", \"random\", \"random_family\", \"random_genus\", \"maxsum\", \"maxmin\"]\n",
    "metrics = [\"mpd\", \"fvo\", \"fvi\", \"entropy_without_missing\"]\n",
    "\n",
    "\"\"\"\n",
    "Some TODO items here:\n",
    "- mathbold the best value (high/low differs)\n",
    "- add high/low best arrow in header here\n",
    "- ordering\n",
    "- split by random methods, convenience and our methods\n",
    "- stdev in separate cells for alignment\n",
    "\"\"\"\n",
    "\n",
    "method_label = {\n",
    "    \"maxmin\": \"MaxMin\",\n",
    "    \"maxsum\": \"MaxSum\",\n",
    "    \"random_genus\": \"RandomGenus*\",\n",
    "    \"random_family\": \"RandomFamily*\",\n",
    "    \"convenience\": \"Convenience*\",\n",
    "    \"random\": \"Random*\",\n",
    "}\n",
    "\n",
    "metric_label = {\n",
    "    \"entropy_with_missing\": \"$\\\\boldsymbol{\\mathcal{H}}$ $\\\\uparrow$\",\n",
    "    \"entropy_without_missing\": \"$\\\\boldsymbol{\\mathcal{H}}$ $\\\\uparrow$\",\n",
    "    \"fvi\": \"\\\\textbf{FVI} $\\\\uparrow$\",\n",
    "    \"fvo\": \"\\\\textbf{FVO} $\\\\downarrow$\",\n",
    "    \"mpd\": \"\\\\textbf{MPD} $\\\\uparrow$\",\n",
    "}\n",
    "\n",
    "for method in methods:\n",
    "    for metric in metrics:\n",
    "        mean = df[df[\"method\"] == method][metric].mean()\n",
    "        std = df[df[\"method\"] == method][metric].std()\n",
    "        std_str = \"\" if method in [\"maxsum\", \"maxmin\"] else f\" \\pm{std:.2f}\"\n",
    "        table.set(\n",
    "            f\"${mean:.2f}{std_str}$\", [method_label[method]], [metric_label[metric]]\n",
    "        )\n",
    "table.commit()"
   ]
  }
 ],
 "metadata": {
  "kernelspec": {
   "display_name": "Python 3 (ipykernel)",
   "language": "python",
   "name": "python3"
  },
  "language_info": {
   "codemirror_mode": {
    "name": "ipython",
    "version": 3
   },
   "file_extension": ".py",
   "mimetype": "text/x-python",
   "name": "python",
   "nbconvert_exporter": "python",
   "pygments_lexer": "ipython3",
   "version": "3.12.2"
  }
 },
 "nbformat": 4,
 "nbformat_minor": 4
}
