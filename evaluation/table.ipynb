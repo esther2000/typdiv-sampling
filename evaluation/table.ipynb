{
 "cells": [
  {
   "cell_type": "code",
   "execution_count": 6,
   "metadata": {},
   "outputs": [],
   "source": [
    "import pandas as pd\n",
    "from fiject import CacheMode\n",
    "from fiject.visuals.tables import Table\n",
    "\n",
    "# Frame = all languages in GB\n",
    "# k = range from 11 to 11, steps of 1\n",
    "# distances = all language in GB\n",
    "df = pd.read_csv(\"experiments/only-k-11-eval.csv\")"
   ]
  },
  {
   "cell_type": "code",
   "execution_count": 8,
   "metadata": {},
   "outputs": [
    {
     "name": "stdout",
     "output_type": "stream",
     "text": [
      "Writing .tex Sampling Method ...\n",
      "\\begin{tabular}{l||cccc}\n",
      "\t              & \\textbf{MPD} $\\uparrow$ & \\textbf{FVO} $\\downarrow$ & \\textbf{FVI} $\\uparrow$ & $\\boldsymbol{\\mathcal{H}}$ $\\uparrow$\\\\\\hhline{*{5}{=}}\n",
      "\tConvenience*  & $0.56 \\pm0.00$          & $0.68 \\pm0.00$            & $0.88 \\pm0.00$          & $0.60 \\pm0.01$                       \\\\\n",
      "\tRandom*       & $0.59 \\pm0.02$          & $0.65 \\pm0.03$            & $0.89 \\pm0.02$          & $0.62 \\pm0.03$                       \\\\\n",
      "\tRandomFamily* & $0.58 \\pm0.02$          & $0.65 \\pm0.02$            & $0.88 \\pm0.03$          & $0.62 \\pm0.04$                       \\\\\n",
      "\tRandomGenus*  & $0.60 \\pm0.02$          & $0.63 \\pm0.02$            & $0.89 \\pm0.03$          & $0.64 \\pm0.04$                       \\\\\n",
      "\tMaxSum        & $0.74$                  & $0.47$                    & $0.80$                  & $0.56$                               \\\\\n",
      "\tMaxMin        & $0.72$                  & $0.48$                    & $0.84$                  & $0.64$                               \n",
      "\\end{tabular}\n"
     ]
    }
   ],
   "source": [
    "table = Table(\"Sampling Method\", caching=CacheMode.NONE)\n",
    "\n",
    "methods = [\"convenience\", \"random\", \"random_family\", \"random_genus\", \"mdp\", \"mmdp\"]\n",
    "metrics = [\"mpd\", \"fvo\", \"fvi\", \"entropy_without_missing\"]\n",
    "\n",
    "\"\"\"\n",
    "Some TODO items here:\n",
    "- mathbold the best value (high/low differs)\n",
    "- add high/low best arrow in header here\n",
    "- ordering\n",
    "- split by random methods, convenience and our methods\n",
    "- stdev in separate cells for alignment\n",
    "\"\"\"\n",
    "\n",
    "method_label = {\n",
    "    \"mmdp\": \"MaxMin\",\n",
    "    \"mdp\": \"MaxSum\",\n",
    "    \"random_genus\": \"RandomGenus*\",\n",
    "    \"random_family\": \"RandomFamily*\",\n",
    "    \"convenience\": \"Convenience*\",\n",
    "    \"random\": \"Random*\",\n",
    "}\n",
    "\n",
    "metric_label = {\n",
    "    \"entropy_with_missing\": \"$\\\\boldsymbol{\\mathcal{H}}$ $\\\\uparrow$\",\n",
    "    \"entropy_without_missing\": \"$\\\\boldsymbol{\\mathcal{H}}$ $\\\\uparrow$\",\n",
    "    \"fvi\": \"\\\\textbf{FVI} $\\\\uparrow$\",\n",
    "    \"fvo\": \"\\\\textbf{FVO} $\\\\downarrow$\",\n",
    "    \"mpd\": \"\\\\textbf{MPD} $\\\\uparrow$\",\n",
    "}\n",
    "\n",
    "for method in methods:\n",
    "    for metric in metrics:\n",
    "        mean = df[df[\"method\"] == method][metric].mean()\n",
    "        std = df[df[\"method\"] == method][metric].std()\n",
    "        std_str = \"\" if method in [\"mdp\", \"mmdp\"] else f\" \\pm{std:.2f}\"\n",
    "        table.set(\n",
    "            f\"${mean:.2f}{std_str}$\", [method_label[method]], [metric_label[metric]]\n",
    "        )\n",
    "table.commit()"
   ]
  },
  {
   "cell_type": "code",
   "execution_count": null,
   "metadata": {},
   "outputs": [],
   "source": []
  }
 ],
 "metadata": {
  "kernelspec": {
   "display_name": "Python 3 (ipykernel)",
   "language": "python",
   "name": "python3"
  },
  "language_info": {
   "codemirror_mode": {
    "name": "ipython",
    "version": 3
   },
   "file_extension": ".py",
   "mimetype": "text/x-python",
   "name": "python",
   "nbconvert_exporter": "python",
   "pygments_lexer": "ipython3",
   "version": "3.10.13"
  }
 },
 "nbformat": 4,
 "nbformat_minor": 4
}
