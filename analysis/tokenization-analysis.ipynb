{
 "cells": [
  {
   "cell_type": "code",
   "execution_count": 1,
   "metadata": {},
   "outputs": [
    {
     "data": {
      "text/html": [
       "<div>\n",
       "<style scoped>\n",
       "    .dataframe tbody tr th:only-of-type {\n",
       "        vertical-align: middle;\n",
       "    }\n",
       "\n",
       "    .dataframe tbody tr th {\n",
       "        vertical-align: top;\n",
       "    }\n",
       "\n",
       "    .dataframe thead th {\n",
       "        text-align: right;\n",
       "    }\n",
       "</style>\n",
       "<table border=\"1\" class=\"dataframe\">\n",
       "  <thead>\n",
       "    <tr style=\"text-align: right;\">\n",
       "      <th></th>\n",
       "      <th>verses</th>\n",
       "      <th>avg_subwords</th>\n",
       "      <th>glottocode</th>\n",
       "    </tr>\n",
       "  </thead>\n",
       "  <tbody>\n",
       "    <tr>\n",
       "      <th>0</th>\n",
       "      <td>verses/aau.txt</td>\n",
       "      <td>82.037074</td>\n",
       "      <td>abau1245</td>\n",
       "    </tr>\n",
       "    <tr>\n",
       "      <th>1</th>\n",
       "      <td>verses/abt.txt</td>\n",
       "      <td>82.901452</td>\n",
       "      <td>ambu1247</td>\n",
       "    </tr>\n",
       "    <tr>\n",
       "      <th>2</th>\n",
       "      <td>verses/aca.txt</td>\n",
       "      <td>60.509000</td>\n",
       "      <td>acha1250</td>\n",
       "    </tr>\n",
       "    <tr>\n",
       "      <th>3</th>\n",
       "      <td>verses/ace.txt</td>\n",
       "      <td>71.592000</td>\n",
       "      <td>achi1257</td>\n",
       "    </tr>\n",
       "    <tr>\n",
       "      <th>4</th>\n",
       "      <td>verses/ach.txt</td>\n",
       "      <td>44.531000</td>\n",
       "      <td>acol1236</td>\n",
       "    </tr>\n",
       "    <tr>\n",
       "      <th>...</th>\n",
       "      <td>...</td>\n",
       "      <td>...</td>\n",
       "      <td>...</td>\n",
       "    </tr>\n",
       "    <tr>\n",
       "      <th>567</th>\n",
       "      <td>verses/zpi.txt</td>\n",
       "      <td>53.227000</td>\n",
       "      <td>sant1451</td>\n",
       "    </tr>\n",
       "    <tr>\n",
       "      <th>568</th>\n",
       "      <td>verses/zpm.txt</td>\n",
       "      <td>64.967480</td>\n",
       "      <td>mixt1426</td>\n",
       "    </tr>\n",
       "    <tr>\n",
       "      <th>569</th>\n",
       "      <td>verses/zpq.txt</td>\n",
       "      <td>74.311623</td>\n",
       "      <td>zoog1238</td>\n",
       "    </tr>\n",
       "    <tr>\n",
       "      <th>570</th>\n",
       "      <td>verses/zsm.txt</td>\n",
       "      <td>55.686000</td>\n",
       "      <td>stan1306</td>\n",
       "    </tr>\n",
       "    <tr>\n",
       "      <th>571</th>\n",
       "      <td>verses/zul.txt</td>\n",
       "      <td>50.944000</td>\n",
       "      <td>zulu1248</td>\n",
       "    </tr>\n",
       "  </tbody>\n",
       "</table>\n",
       "<p>572 rows × 3 columns</p>\n",
       "</div>"
      ],
      "text/plain": [
       "             verses  avg_subwords glottocode\n",
       "0    verses/aau.txt     82.037074   abau1245\n",
       "1    verses/abt.txt     82.901452   ambu1247\n",
       "2    verses/aca.txt     60.509000   acha1250\n",
       "3    verses/ace.txt     71.592000   achi1257\n",
       "4    verses/ach.txt     44.531000   acol1236\n",
       "..              ...           ...        ...\n",
       "567  verses/zpi.txt     53.227000   sant1451\n",
       "568  verses/zpm.txt     64.967480   mixt1426\n",
       "569  verses/zpq.txt     74.311623   zoog1238\n",
       "570  verses/zsm.txt     55.686000   stan1306\n",
       "571  verses/zul.txt     50.944000   zulu1248\n",
       "\n",
       "[572 rows x 3 columns]"
      ]
     },
     "execution_count": 1,
     "metadata": {},
     "output_type": "execute_result"
    }
   ],
   "source": [
    "from pathlib import Path\n",
    "\n",
    "import pandas as pd\n",
    "\n",
    "DATA = Path(\"../data\")\n",
    "\n",
    "df = pd.read_csv(DATA / \"avg_subwords_mBERT.csv\", sep=\";\")\n",
    "df"
   ]
  },
  {
   "cell_type": "code",
   "execution_count": 2,
   "metadata": {},
   "outputs": [],
   "source": [
    "frame = df[\"glottocode\"].tolist()\n",
    "\n",
    "# no dupes\n",
    "assert len(frame) == len(set(frame))"
   ]
  },
  {
   "cell_type": "code",
   "execution_count": 3,
   "metadata": {},
   "outputs": [
    {
     "data": {
      "text/plain": [
       "5147"
      ]
     },
     "execution_count": 3,
     "metadata": {},
     "output_type": "execute_result"
    }
   ],
   "source": [
    "Path(DATA / \"frames/tokenizer_frame.txt\").write_text(\"\\n\".join(frame))"
   ]
  },
  {
   "cell_type": "code",
   "execution_count": 15,
   "metadata": {},
   "outputs": [],
   "source": [
    "# get intersection of all resources\n",
    "import json\n",
    "\n",
    "with open(DATA / \"convenience_counts.json\") as f:\n",
    "    convenience_frame = set(json.load(f).keys())\n",
    "\n",
    "wals_df = pd.read_csv(DATA / \"wals_dedup.csv\")\n",
    "wals_frame = set(wals_df[\"Glottocode\"].tolist())\n",
    "\n",
    "\n",
    "gb_df = pd.read_csv(DATA.parent / \"grambank/cldf/languages.csv\")\n",
    "gb_frame = set(gb_df[\"Glottocode\"].tolist())"
   ]
  },
  {
   "cell_type": "code",
   "execution_count": 17,
   "metadata": {},
   "outputs": [
    {
     "data": {
      "text/plain": [
       "89"
      ]
     },
     "execution_count": 17,
     "metadata": {},
     "output_type": "execute_result"
    }
   ],
   "source": [
    "equal_lang_frame = wals_frame & gb_frame & convenience_frame & set(frame)\n",
    "len(equal_lang_frame)"
   ]
  },
  {
   "cell_type": "code",
   "execution_count": 18,
   "metadata": {},
   "outputs": [
    {
     "data": {
      "text/plain": [
       "800"
      ]
     },
     "execution_count": 18,
     "metadata": {},
     "output_type": "execute_result"
    }
   ],
   "source": [
    "Path(DATA / \"frames/equal_lang_frame.txt\").write_text(\"\\n\".join(equal_lang_frame))"
   ]
  }
 ],
 "metadata": {
  "kernelspec": {
   "display_name": "typ",
   "language": "python",
   "name": "python3"
  },
  "language_info": {
   "codemirror_mode": {
    "name": "ipython",
    "version": 3
   },
   "file_extension": ".py",
   "mimetype": "text/x-python",
   "name": "python",
   "nbconvert_exporter": "python",
   "pygments_lexer": "ipython3",
   "version": "3.10.13"
  }
 },
 "nbformat": 4,
 "nbformat_minor": 2
}
