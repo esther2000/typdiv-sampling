{
 "cells": [
  {
   "cell_type": "code",
   "execution_count": 1,
   "metadata": {},
   "outputs": [],
   "source": [
    "import pandas as pd\n",
    "from pathlib import Path\n",
    "from fiject import CacheMode\n",
    "from fiject.visuals.tables import Table, ColumnStyle\n",
    "import itertools\n",
    "\n",
    "\n",
    "# Frame = all languages in GB\n",
    "# k = range from 11 to 11, steps of 1\n",
    "# distances = all language in GB\n",
    "df = pd.read_csv(\"experiments/only-11.csv\")"
   ]
  },
  {
   "cell_type": "code",
   "execution_count": 7,
   "metadata": {},
   "outputs": [
    {
     "name": "stdout",
     "output_type": "stream",
     "text": [
      "Writing .tex Sampling Method ...\n",
      "\\begin{tabular}{l||cccc}\n",
      "\t               & mpd & fvo & fvi & entropy_without_missing \\\\\\hhline{*{5}{=}}\n",
      "\trandom & $8.22 \\pm0.24$ & $0.65 \\pm0.02$ & $0.87 \\pm0.02$ & $0.60 \\pm0.03$ \\\\\n",
      "\tconvenience & $7.91$ & $0.68$ & $0.87$ & $0.58$ \\\\\n",
      "\trandom_family & $8.27 \\pm0.23$ & $0.65 \\pm0.02$ & $0.87 \\pm0.02$ & $0.61 \\pm0.03$ \\\\\n",
      "\trandom_genus & $8.38 \\pm0.25$ & $0.64 \\pm0.02$ & $0.88 \\pm0.02$ & $0.62 \\pm0.04$ \\\\\n",
      "\tmdp & $10.13$ & $0.46$ & $0.87$ & $0.64$ \\\\\n",
      "\tmmdp & $9.90$ & $0.51$ & $0.88$ & $0.66$ \n",
      "\\end{tabular}\n"
     ]
    }
   ],
   "source": [
    "table = Table(\"Sampling Method\", caching=CacheMode.NONE)\n",
    "\n",
    "methods = [\"random\", \"convenience\", \"random_family\", \"random_genus\", \"mdp\", \"mmdp\"]\n",
    "metrics = [\"mpd\", \"fvo\", \"fvi\", \"entropy_without_missing\"]\n",
    "\n",
    "\"\"\"\n",
    "Some TODO items here:\n",
    "- mathbold the best value (high/low differs)\n",
    "- add high/low best arrow in header here\n",
    "- ordering\n",
    "- split by random methods, convenience and our methods\n",
    "- stdev in separate cells for alignment\n",
    "\"\"\"\n",
    "\n",
    "for method in methods:\n",
    "    for metric in metrics:\n",
    "        mean = df[df[\"method\"] == method][metric].mean()\n",
    "        std = df[df[\"method\"] == method][metric].std()\n",
    "        std_str = \"\" if method in [\"convenience\", \"mdp\", \"mmdp\"] else f\" \\pm{std:.2f}\"\n",
    "        table.set(f\"${mean:.2f}{std_str}$\", [method], [metric])\n",
    "table.commit()"
   ]
  }
 ],
 "metadata": {
  "kernelspec": {
   "display_name": "typ",
   "language": "python",
   "name": "python3"
  },
  "language_info": {
   "codemirror_mode": {
    "name": "ipython",
    "version": 3
   },
   "file_extension": ".py",
   "mimetype": "text/x-python",
   "name": "python",
   "nbconvert_exporter": "python",
   "pygments_lexer": "ipython3",
   "version": "3.10.13"
  }
 },
 "nbformat": 4,
 "nbformat_minor": 2
}
