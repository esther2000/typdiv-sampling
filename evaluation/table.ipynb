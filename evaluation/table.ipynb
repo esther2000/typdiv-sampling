{
 "cells": [
  {
   "cell_type": "code",
   "execution_count": 3,
   "metadata": {},
   "outputs": [],
   "source": [
    "import pandas as pd\n",
    "from pathlib import Path\n",
    "from fiject import CacheMode\n",
    "from fiject.visuals.tables import Table, ColumnStyle\n",
    "import itertools\n",
    "\n",
    "\n",
    "# Frame = all languages in GB\n",
    "# k = range from 11 to 11, steps of 1\n",
    "# distances = all language in GB\n",
    "df = pd.read_csv(\"experiments/11-lang-comparison.csv\")"
   ]
  },
  {
   "cell_type": "code",
   "execution_count": 4,
   "metadata": {},
   "outputs": [
    {
     "name": "stdout",
     "output_type": "stream",
     "text": [
      "Writing .tex Sampling Method ...\n",
      "\\begin{tabular}{l||cccc}\n",
      "\t              & mpd            & fvo            & fvi            & entropy_without_missing\\\\\\hhline{*{5}{=}}\n",
      "\trandom        & $0.59 \\pm0.02$ & $0.65 \\pm0.03$ & $0.89 \\pm0.02$ & $0.62 \\pm0.03$         \\\\\n",
      "\tconvenience   & $0.56$         & $0.68$         & $0.88$         & $0.60$                 \\\\\n",
      "\trandom_family & $0.58 \\pm0.02$ & $0.65 \\pm0.02$ & $0.88 \\pm0.03$ & $0.62 \\pm0.04$         \\\\\n",
      "\trandom_genus  & $0.60 \\pm0.02$ & $0.63 \\pm0.02$ & $0.89 \\pm0.03$ & $0.64 \\pm0.04$         \\\\\n",
      "\tmdp           & $0.74$         & $0.47$         & $0.80$         & $0.56$                 \\\\\n",
      "\tmmdp          & $0.72$         & $0.48$         & $0.84$         & $0.64$                 \n",
      "\\end{tabular}\n"
     ]
    },
    {
     "name": "stderr",
     "output_type": "stream",
     "text": [
      "<>:19: SyntaxWarning: invalid escape sequence '\\p'\n",
      "<>:19: SyntaxWarning: invalid escape sequence '\\p'\n",
      "/var/folders/2z/btydfrss06zb3cvd_xwm7mq80000gq/T/ipykernel_4932/1742424521.py:19: SyntaxWarning: invalid escape sequence '\\p'\n",
      "  std_str = \"\" if method in [\"convenience\", \"mdp\", \"mmdp\"] else f\" \\pm{std:.2f}\"\n"
     ]
    }
   ],
   "source": [
    "table = Table(\"Sampling Method\", caching=CacheMode.NONE)\n",
    "\n",
    "methods = [\"random\", \"convenience\", \"random_family\", \"random_genus\", \"mdp\", \"mmdp\"]\n",
    "metrics = [\"mpd\", \"fvo\", \"fvi\", \"entropy_without_missing\"]\n",
    "\n",
    "\"\"\"\n",
    "Some TODO items here:\n",
    "- mathbold the best value (high/low differs)\n",
    "- add high/low best arrow in header here\n",
    "- ordering\n",
    "- split by random methods, convenience and our methods\n",
    "- stdev in separate cells for alignment\n",
    "\"\"\"\n",
    "\n",
    "for method in methods:\n",
    "    for metric in metrics:\n",
    "        mean = df[df[\"method\"] == method][metric].mean()\n",
    "        std = df[df[\"method\"] == method][metric].std()\n",
    "        std_str = \"\" if method in [\"convenience\", \"mdp\", \"mmdp\"] else f\" \\pm{std:.2f}\"\n",
    "        table.set(f\"${mean:.2f}{std_str}$\", [method], [metric])\n",
    "table.commit()"
   ]
  }
 ],
 "metadata": {
  "kernelspec": {
   "display_name": "Python 3 (ipykernel)",
   "language": "python",
   "name": "python3"
  },
  "language_info": {
   "codemirror_mode": {
    "name": "ipython",
    "version": 3
   },
   "file_extension": ".py",
   "mimetype": "text/x-python",
   "name": "python",
   "nbconvert_exporter": "python",
   "pygments_lexer": "ipython3",
   "version": "3.12.2"
  }
 },
 "nbformat": 4,
 "nbformat_minor": 4
}
